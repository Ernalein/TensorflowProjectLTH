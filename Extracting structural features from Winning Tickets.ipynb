{
 "cells": [
  {
   "cell_type": "markdown",
   "id": "74117e37",
   "metadata": {},
   "source": [
    "## Extracting structural features from Winning Tickets\n",
    "\n",
    "Load the weights of the earlier created winning tickets. Then extract (some) of the following features:\n",
    "* sign distribution overall in conv1 layer\n",
    "* number of weights left per kernel distribution in conv1 layer \n",
    "* distribution of weight or no weight for each position in the kernel seperatly for conv1 layer\n",
    "* conditional probabilities for positive and negative weights to be neighbours in a kernel of conv1 layer."
   ]
  },
  {
   "cell_type": "code",
   "execution_count": null,
   "id": "2f38137b",
   "metadata": {},
   "outputs": [],
   "source": [
    "# import necessary libraries\n",
    "\n",
    "import tensorflow_datasets as tfds\n",
    "import tensorflow as tf\n",
    "import numpy as np\n",
    "import matplotlib.pyplot as plt\n",
    "from tqdm import tqdm"
   ]
  },
  {
   "cell_type": "code",
   "execution_count": null,
   "id": "29b0afb6",
   "metadata": {},
   "outputs": [],
   "source": [
    "# create the model\n",
    "\n",
    "class CNN2Model(tf.keras.Model):\n",
    "    \n",
    "    # basic\n",
    "    def __init__(self):\n",
    "        super(CNN2Model, self).__init__()\n",
    "        \n",
    "        # set biases to a value that is not exactly 0.0, so they don't get handled like pruned values\n",
    "        self.bias_in = tf.keras.initializers.Constant(value=0.0000000001)\n",
    "        \n",
    "        self.conv1 = tf.keras.layers.Conv2D(filters=64, kernel_size=3,activation=\"relu\", padding=\"same\",kernel_initializer='glorot_uniform', bias_initializer=self.bias_in) # [batchsize,32,32,64]\n",
    "        self.conv2 = tf.keras.layers.Conv2D(filters=64, kernel_size=3,activation=\"relu\", padding=\"same\",kernel_initializer='glorot_uniform', bias_initializer=self.bias_in) # [batchsize,32,32,64]\n",
    "        self.maxpool = tf.keras.layers.MaxPooling2D(pool_size=(2, 2),strides=(2, 2),input_shape=(32, 32, 64)) # [batchsize,16,16,64]\n",
    "        self.flatten = tf.keras.layers.Flatten() # [batch_size,16384]\n",
    "        self.dense1 = tf.keras.layers.Dense(256, activation=\"relu\",kernel_initializer='glorot_uniform', bias_initializer=self.bias_in) # [batch_size,256]\n",
    "        self.dense2 = tf.keras.layers.Dense(256, activation=\"relu\",kernel_initializer='glorot_uniform', bias_initializer=self.bias_in) # [batch_size,256]\n",
    "        self.dense3 = tf.keras.layers.Dense(10, activation=\"softmax\",kernel_initializer='glorot_uniform', bias_initializer=self.bias_in) # [batch_size,256]\n",
    "\n",
    "    @tf.function\n",
    "    def call(self, inputs):\n",
    "        x = self.conv1(inputs)\n",
    "        x = self.conv2(x)\n",
    "        x = self.maxpool(x)\n",
    "        x = self.flatten(x)\n",
    "        x = self.dense1(x)\n",
    "        x = self.dense2(x)\n",
    "        x = self.dense3(x)\n",
    "        return x\n",
    "            \n",
    "    \n",
    "    def get_conv_weights(self):\n",
    "        return self.conv1.get_weights(), self.conv2.get_weights(), self.dense3.get_weights()\n",
    "        \n",
    "    def set_conv_weights(self,weights_conv1, weights_conv2, weights_dense3):\n",
    "        self.conv1.set_weights(weights_conv1)\n",
    "        self.conv2.set_weights(weights_conv2)\n",
    "        self.dense3.set_weights(weights_dense3)\n",
    "        \n",
    "    def get_dense_weights(self):\n",
    "        return self.dense1.get_weights(), self.dense2.get_weights()\n",
    "        \n",
    "    def set_dense_weights(self,weights_dense1, weights_dense2):\n",
    "        self.dense1.set_weights(weights_dense1)\n",
    "        self.dense2.set_weights(weights_dense2)"
   ]
  },
  {
   "cell_type": "code",
   "execution_count": null,
   "id": "837dfa39",
   "metadata": {},
   "outputs": [],
   "source": [
    "# load stored weights into a model\n",
    "model = CNN2Model()\n",
    "model(list(train_dataset)[0][0])\n",
    "model.load weights(\"...\")\n",
    "\n",
    "# get kernel weights of the conv1 layer in a neet numpy array\n",
    "conv1_weights = model.get_conv_weights()[0][0]\n",
    "print(np.shape(conv1_weights))\n",
    "print(conv1_weights)"
   ]
  },
  {
   "cell_type": "code",
   "execution_count": null,
   "id": "a70f4c87",
   "metadata": {},
   "outputs": [],
   "source": [
    "# extract distribution of signs"
   ]
  },
  {
   "cell_type": "code",
   "execution_count": null,
   "id": "c3041f12",
   "metadata": {},
   "outputs": [],
   "source": [
    "# extract distribution of number of weights per kernel"
   ]
  },
  {
   "cell_type": "code",
   "execution_count": null,
   "id": "a2a41962",
   "metadata": {},
   "outputs": [],
   "source": [
    "# do this when averaging over all winningTickets"
   ]
  }
 ],
 "metadata": {
  "kernelspec": {
   "display_name": "Python 3 (ipykernel)",
   "language": "python",
   "name": "python3"
  },
  "language_info": {
   "codemirror_mode": {
    "name": "ipython",
    "version": 3
   },
   "file_extension": ".py",
   "mimetype": "text/x-python",
   "name": "python",
   "nbconvert_exporter": "python",
   "pygments_lexer": "ipython3",
   "version": "3.10.13"
  }
 },
 "nbformat": 4,
 "nbformat_minor": 5
}
