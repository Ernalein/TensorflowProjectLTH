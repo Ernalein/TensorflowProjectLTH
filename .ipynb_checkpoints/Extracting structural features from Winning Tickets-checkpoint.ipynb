{
 "cells": [
  {
   "cell_type": "markdown",
   "id": "74117e37",
   "metadata": {},
   "source": [
    "## Extracting structural features from Winning Tickets\n",
    "\n",
    "Load the weights of the earlier created winning tickets. Then extract (some) of the following features:\n",
    "* sign distribution overall in conv1 layer\n",
    "* number of weights left per kernel distribution in conv1 layer \n",
    "* distribution of weight or no weight for each position in the kernel seperatly for conv1 layer\n",
    "* conditional probabilities for positive and negative weights to be neighbours in a kernel of conv1 layer."
   ]
  },
  {
   "cell_type": "markdown",
   "id": "65344415",
   "metadata": {},
   "source": [
    "## Prerequisites:"
   ]
  },
  {
   "cell_type": "code",
   "execution_count": 1,
   "id": "2f38137b",
   "metadata": {},
   "outputs": [],
   "source": [
    "# import necessary libraries\n",
    "\n",
    "import tensorflow_datasets as tfds\n",
    "import tensorflow as tf\n",
    "import numpy as np\n",
    "import matplotlib.pyplot as plt\n",
    "from tqdm import tqdm"
   ]
  },
  {
   "cell_type": "code",
   "execution_count": 2,
   "id": "09e0fcd8",
   "metadata": {},
   "outputs": [],
   "source": [
    "def load_and_prep_cifar(batch_size, shuffle_size):\n",
    "    # load data set\n",
    "    (train_ds, test_ds), ds_info = tfds.load(name=\"cifar10\", split=[\"train\",\"test\"], as_supervised=True, with_info=True)\n",
    "    # tfds.show_examples(train_ds, ds_info)\n",
    "    \n",
    "    def prepare_cifar10_data(ds):\n",
    "        #convert data from uint8 to float32\n",
    "        ds = ds.map(lambda img, target: (tf.cast(img, tf.float32), target))\n",
    "        #sloppy input normalization, just bringing image values from range [0, 255] to [-1, 1]\n",
    "        ds = ds.map(lambda img, target: ((img/128.)-1., target))\n",
    "        #create one-hot targets\n",
    "        ds = ds.map(lambda img, target: (img, tf.one_hot(target, depth=10)))\n",
    "        #cache this progress in memory, as there is no need to redo it; it is deterministic after all\n",
    "        ds = ds.cache()\n",
    "        #shuffle, batch, prefetch\n",
    "        ds = ds.shuffle(shuffle_size).batch(batch_size).prefetch(2)\n",
    "        #return preprocessed dataset\n",
    "        return ds\n",
    "    \n",
    "    # prepare data\n",
    "    train_dataset = train_ds.apply(prepare_cifar10_data)\n",
    "    test_dataset = test_ds.apply(prepare_cifar10_data)\n",
    "    \n",
    "    return train_dataset, test_dataset"
   ]
  },
  {
   "cell_type": "code",
   "execution_count": 3,
   "id": "29b0afb6",
   "metadata": {},
   "outputs": [],
   "source": [
    "# create the model\n",
    "\n",
    "class CNN2Model(tf.keras.Model):\n",
    "    \n",
    "    # basic\n",
    "    def __init__(self):\n",
    "        super(CNN2Model, self).__init__()\n",
    "        \n",
    "        # set biases to a value that is not exactly 0.0, so they don't get handled like pruned values\n",
    "        self.bias_in = tf.keras.initializers.Constant(value=0.0000000001)\n",
    "        \n",
    "        self.conv1 = tf.keras.layers.Conv2D(filters=64, kernel_size=3,activation=\"relu\", padding=\"same\",kernel_initializer='glorot_uniform', bias_initializer=self.bias_in) # [batchsize,32,32,64]\n",
    "        self.conv2 = tf.keras.layers.Conv2D(filters=64, kernel_size=3,activation=\"relu\", padding=\"same\",kernel_initializer='glorot_uniform', bias_initializer=self.bias_in) # [batchsize,32,32,64]\n",
    "        self.maxpool = tf.keras.layers.MaxPooling2D(pool_size=(2, 2),strides=(2, 2),input_shape=(32, 32, 64)) # [batchsize,16,16,64]\n",
    "        self.flatten = tf.keras.layers.Flatten() # [batch_size,16384]\n",
    "        self.dense1 = tf.keras.layers.Dense(256, activation=\"relu\",kernel_initializer='glorot_uniform', bias_initializer=self.bias_in) # [batch_size,256]\n",
    "        self.dense2 = tf.keras.layers.Dense(256, activation=\"relu\",kernel_initializer='glorot_uniform', bias_initializer=self.bias_in) # [batch_size,256]\n",
    "        self.dense3 = tf.keras.layers.Dense(10, activation=\"softmax\",kernel_initializer='glorot_uniform', bias_initializer=self.bias_in) # [batch_size,256]\n",
    "\n",
    "    @tf.function\n",
    "    def call(self, inputs):\n",
    "        x = self.conv1(inputs)\n",
    "        x = self.conv2(x)\n",
    "        x = self.maxpool(x)\n",
    "        x = self.flatten(x)\n",
    "        x = self.dense1(x)\n",
    "        x = self.dense2(x)\n",
    "        x = self.dense3(x)\n",
    "        return x\n",
    "            \n",
    "    \n",
    "    def get_conv_weights(self):\n",
    "        return self.conv1.get_weights(), self.conv2.get_weights(), self.dense3.get_weights()\n",
    "        \n",
    "    def set_conv_weights(self,weights_conv1, weights_conv2, weights_dense3):\n",
    "        self.conv1.set_weights(weights_conv1)\n",
    "        self.conv2.set_weights(weights_conv2)\n",
    "        self.dense3.set_weights(weights_dense3)\n",
    "        \n",
    "    def get_dense_weights(self):\n",
    "        return self.dense1.get_weights(), self.dense2.get_weights()\n",
    "        \n",
    "    def set_dense_weights(self,weights_dense1, weights_dense2):\n",
    "        self.dense1.set_weights(weights_dense1)\n",
    "        self.dense2.set_weights(weights_dense2)"
   ]
  },
  {
   "cell_type": "code",
   "execution_count": 4,
   "id": "e3d752c3",
   "metadata": {},
   "outputs": [],
   "source": [
    "def pruning_rate(weights):\n",
    "    int_weights = []\n",
    "    for w in weights:\n",
    "        int_weights.extend(w.astype(bool).astype(int).flatten())\n",
    "    pruned_amount = np.mean(int_weights)\n",
    "    return pruned_amount"
   ]
  },
  {
   "cell_type": "markdown",
   "id": "da3219b3",
   "metadata": {},
   "source": [
    "## Extracting kernel weight matrices:"
   ]
  },
  {
   "cell_type": "code",
   "execution_count": 5,
   "id": "837dfa39",
   "metadata": {},
   "outputs": [],
   "source": [
    "def get_conv1_weights(files=[\"isabels_wts/WT_s0.1_nr0.h5\"]):\n",
    "\n",
    "    # initialize a model\n",
    "    train_dataset, test_dataset = load_and_prep_cifar(batch_size=60, shuffle_size=512)\n",
    "    model = CNN2Model()\n",
    "    model(list(train_dataset)[0][0])\n",
    "\n",
    "    # load isabels stored weights into model to get numpy kernel weight matrix\n",
    "    all_kernels = None\n",
    "    first_set = True\n",
    "    for file in files:\n",
    "        model.load_weights(file)\n",
    "\n",
    "        # get the pruning rate\n",
    "        all_weights = model.get_weights()\n",
    "        pruned_amount = pruning_rate(all_weights)\n",
    "        print(f\"The sparse model is pruned to {pruned_amount} of its original size\")\n",
    "\n",
    "        # get kernel weights of the conv1 layer in a neet numpy array\n",
    "        conv1_weights = model.get_conv_weights()[0][0]\n",
    "        conv1_weights_t = np.transpose(conv1_weights, (3, 0, 1, 2))\n",
    "        print(\"conv1 transposed shape: \",conv1_weights_t.shape)\n",
    "        print(f\"the conv1 layer is pruned to {pruning_rate(conv1_weights_t)} of its original size.\")\n",
    "\n",
    "        # concatenate kernels of each model\n",
    "        if first_set:\n",
    "            all_kernels = conv1_weights_t\n",
    "            first_set = False\n",
    "        else:\n",
    "            all_kernels = np.concatenate((all_kernels,conv1_weights_t), axis=0)\n",
    "    print(\"all kernels: \",np.shape(all_kernels))\n",
    "    \n",
    "    return all_kernels"
   ]
  },
  {
   "cell_type": "markdown",
   "id": "97289410",
   "metadata": {},
   "source": [
    "## Extracting structural features from matrices"
   ]
  },
  {
   "cell_type": "code",
   "execution_count": 21,
   "id": "80a11679",
   "metadata": {},
   "outputs": [],
   "source": [
    "# calculate the positional probabilities of unpruned weights in a kernel\n",
    "def position_probabilities(kernels):\n",
    "    pos_probs = np.mean(kernels.astype(bool).astype(int), axis=0)\n",
    "    print(\"The probabilites for each position in the kernel to be unpruned: \\n\",pos_probs)\n",
    "    return pos_probs\n",
    "\n",
    "# extract distribution of signs\n",
    "def sign_ratio(kernels):\n",
    "    pos_values = len(kernels.flatten()[kernels.flatten()>0.0])\n",
    "    neg_values = len(kernels.flatten()[kernels.flatten()<0.0])\n",
    "    ratio = pos_values/neg_values\n",
    "    print(f\"There are {pos_values} positive weights and {neg_values} negative weights in the conv1 layer. Therfore the ratio is {ratio}.\")\n",
    "    return ratio\n",
    "\n",
    "# extract distribution of number of weights per kernel\n",
    "def weights_per_kernel_distr(kernels):\n",
    "    # for each kernel, count the number of unpruned weights\n",
    "    distribution = [0]*(3*3*3+1)\n",
    "    numbers = range(3*3*3+1)\n",
    "    for kernel in kernels:\n",
    "        number_weights = np.sum(kernel.astype(bool).astype(int))\n",
    "        distribution[number_weights] = distribution[number_weights] + 1\n",
    "    # turn the distribution into probability distributioin\n",
    "    distribution = distribution / np.sum(distribution)\n",
    "    # plot distribution\n",
    "    plt.bar(numbers,distribution)\n",
    "    plt.xlabel('number of unpruned weights per kernel')  \n",
    "    plt.ylabel('probability')  \n",
    "    plt.title('probability distribution of pruning rate over kernels')  \n",
    "    plt.show()\n",
    "    return distribution"
   ]
  },
  {
   "cell_type": "code",
   "execution_count": 22,
   "id": "a70f4c87",
   "metadata": {},
   "outputs": [
    {
     "name": "stdout",
     "output_type": "stream",
     "text": [
      "The sparse model is pruned to 0.08808055156612289 of its original size\n",
      "conv1 transposed shape:  (64, 3, 3, 3)\n",
      "the conv1 layer is pruned to 0.3136574074074074 of its original size.\n",
      "all kernels:  (64, 3, 3, 3)\n",
      "The probabilites for each position in the kernel to be unpruned: \n",
      " [[[0.265625 0.3125   0.25    ]\n",
      "  [0.34375  0.328125 0.359375]\n",
      "  [0.296875 0.296875 0.265625]]\n",
      "\n",
      " [[0.28125  0.234375 0.3125  ]\n",
      "  [0.328125 0.390625 0.40625 ]\n",
      "  [0.40625  0.421875 0.34375 ]]\n",
      "\n",
      " [[0.171875 0.1875   0.28125 ]\n",
      "  [0.375    0.265625 0.359375]\n",
      "  [0.34375  0.328125 0.3125  ]]]\n",
      "There are 361 positive weights and 181 negative weights in the conv1 layer. Therfore the ratio is 1.9944751381215469.\n"
     ]
    },
    {
     "data": {
      "image/png": "[encoded data removed]",
      "text/plain": [
       "<Figure size 640x480 with 1 Axes>"
      ]
     },
     "metadata": {},
     "output_type": "display_data"
    }
   ],
   "source": [
    "kernels = get_conv1_weights()\n",
    "pos_probs = position_probabilities(kernels)\n",
    "sign_ratio = sign_ratio(kernels)\n",
    "weight_distr = weights_per_kernel_distr(kernels)"
   ]
  },
  {
   "cell_type": "code",
   "execution_count": null,
   "id": "c3041f12",
   "metadata": {},
   "outputs": [],
   "source": []
  },
  {
   "cell_type": "code",
   "execution_count": null,
   "id": "a2a41962",
   "metadata": {},
   "outputs": [],
   "source": []
  }
 ],
 "metadata": {
  "kernelspec": {
   "display_name": "Python 3 (ipykernel)",
   "language": "python",
   "name": "python3"
  },
  "language_info": {
   "codemirror_mode": {
    "name": "ipython",
    "version": 3
   },
   "file_extension": ".py",
   "mimetype": "text/x-python",
   "name": "python",
   "nbconvert_exporter": "python",
   "pygments_lexer": "ipython3",
   "version": "3.10.13"
  }
 },
 "nbformat": 4,
 "nbformat_minor": 5
}
